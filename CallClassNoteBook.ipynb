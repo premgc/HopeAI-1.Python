{
 "cells": [
  {
   "cell_type": "code",
   "execution_count": 3,
   "id": "3c5255be-191b-44bd-8518-d81e38a8b3cf",
   "metadata": {},
   "outputs": [],
   "source": [
    "from SubFieldinAI import SubFieldinAI"
   ]
  },
  {
   "cell_type": "code",
   "execution_count": 4,
   "id": "b1c8391e-358f-4028-b99b-308c5cc01fbe",
   "metadata": {},
   "outputs": [
    {
     "name": "stdout",
     "output_type": "stream",
     "text": [
      "Sub-fields in AI are:\n",
      "Machine Learning\n",
      "Neural Networks\n",
      "Vision\n",
      "Robotics\n",
      "Speech Processing\n",
      "Natural Language Processing\n"
     ]
    }
   ],
   "source": [
    "list=['Machine Learning',\n",
    "'Neural Networks',\n",
    "'Vision',\n",
    "'Robotics',\n",
    "'Speech Processing',\n",
    "'Natural Language Processing']\n",
    "abc=SubFieldinAI.SubFields(list)"
   ]
  },
  {
   "cell_type": "code",
   "execution_count": null,
   "id": "a539c38c-ef99-475a-a109-d5cad61032f9",
   "metadata": {},
   "outputs": [],
   "source": [
    "## Assigment 2  OddEven"
   ]
  },
  {
   "cell_type": "code",
   "execution_count": 1,
   "id": "8d2d403b-20b6-4d50-897a-9dace1a55220",
   "metadata": {},
   "outputs": [],
   "source": [
    "from FindOddEven import FindOddEven"
   ]
  },
  {
   "cell_type": "code",
   "execution_count": 2,
   "id": "be972373-ed20-4d4d-8265-2891016f4e79",
   "metadata": {},
   "outputs": [
    {
     "name": "stdin",
     "output_type": "stream",
     "text": [
      "Enter a number:  45454\n"
     ]
    },
    {
     "name": "stdout",
     "output_type": "stream",
     "text": [
      "45454 is Even Number\n"
     ]
    }
   ],
   "source": [
    "FindOddEven.OddEven()"
   ]
  },
  {
   "cell_type": "code",
   "execution_count": 7,
   "id": "abd6fbf4-2f9d-4ef1-974e-dba82893bbaf",
   "metadata": {},
   "outputs": [],
   "source": [
    "from FindEligibility import FindEligibility"
   ]
  },
  {
   "cell_type": "code",
   "execution_count": 13,
   "id": "1b4ac7f3-b793-40e0-a181-9f0d0ac0ab02",
   "metadata": {},
   "outputs": [
    {
     "name": "stdout",
     "output_type": "stream",
     "text": [
      "Your Gender is Male \n",
      "Your age is 24 \n",
      "Eligible\n"
     ]
    }
   ],
   "source": [
    "ans=FindEligibility.Elegible('M',24)\n",
    "print(ans)"
   ]
  },
  {
   "cell_type": "code",
   "execution_count": null,
   "id": "a6d04cb7-2136-43a2-916a-f985775dcb87",
   "metadata": {},
   "outputs": [],
   "source": [
    "### FindPercentage"
   ]
  },
  {
   "cell_type": "code",
   "execution_count": 16,
   "id": "a7c72d01-e907-4ef5-a285-50c653cd908c",
   "metadata": {},
   "outputs": [],
   "source": [
    "from FindPercentage import FindPercentage"
   ]
  },
  {
   "cell_type": "code",
   "execution_count": 18,
   "id": "11cd5132-cd87-4edb-8e95-295618fa9b72",
   "metadata": {},
   "outputs": [
    {
     "name": "stdout",
     "output_type": "stream",
     "text": [
      "Subject: 98\n",
      "Subject2: 87\n",
      "Subject3: 95\n",
      "Subject4: 95\n",
      "Subject5: 93 \n",
      "Total: 468 \n",
      "Percentage: 93.6\n"
     ]
    }
   ],
   "source": [
    "ans=FindPercentage.Percent(98,87,95,95,93)\n",
    "print(ans)"
   ]
  },
  {
   "cell_type": "code",
   "execution_count": null,
   "id": "92cadfe8-e42d-4f0d-b5e6-782b417c5a80",
   "metadata": {},
   "outputs": [],
   "source": []
  }
 ],
 "metadata": {
  "kernelspec": {
   "display_name": "Python [conda env:base] *",
   "language": "python",
   "name": "conda-base-py"
  },
  "language_info": {
   "codemirror_mode": {
    "name": "ipython",
    "version": 3
   },
   "file_extension": ".py",
   "mimetype": "text/x-python",
   "name": "python",
   "nbconvert_exporter": "python",
   "pygments_lexer": "ipython3",
   "version": "3.12.7"
  }
 },
 "nbformat": 4,
 "nbformat_minor": 5
}
