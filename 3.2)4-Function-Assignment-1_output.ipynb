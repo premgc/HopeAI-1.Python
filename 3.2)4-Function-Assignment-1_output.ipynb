{
 "cells": [
  {
   "cell_type": "code",
   "execution_count": 1,
   "id": "73186305-deab-45e3-8276-f32eb44cd85f",
   "metadata": {},
   "outputs": [],
   "source": [
    "list=['Machine Learning',\n",
    "'Neural Networks',\n",
    "'Vision',\n",
    "'Robotics',\n",
    "'Speech Processing',\n",
    "'Natural Language Processing']\n",
    " "
   ]
  },
  {
   "cell_type": "code",
   "execution_count": 2,
   "id": "9cf1e955-8d76-41ab-a6c1-5caf1f71d37c",
   "metadata": {},
   "outputs": [],
   "source": [
    "\n",
    "def SubfieldsInAI():\n",
    "    print(\"Sub-fields in AI are:\")\n",
    "    for sub in list:\n",
    "        print(sub)          \n",
    "\n",
    "    return sub\n",
    "    "
   ]
  },
  {
   "cell_type": "code",
   "execution_count": 6,
   "id": "d2fe319a-8800-4ed2-9223-f13e2ee93bbd",
   "metadata": {},
   "outputs": [
    {
     "name": "stdout",
     "output_type": "stream",
     "text": [
      "Sub-fields in AI are:\n",
      "Machine Learning\n",
      "Neural Networks\n",
      "Vision\n",
      "Robotics\n",
      "Speech Processing\n",
      "Natural Language Processing\n"
     ]
    }
   ],
   "source": [
    "Subfields=SubfieldsInAI()"
   ]
  },
  {
   "cell_type": "code",
   "execution_count": 7,
   "id": "b3e340de-c77f-4afc-a3b1-73b63f3b511c",
   "metadata": {},
   "outputs": [],
   "source": [
    "# Python program to check if the input number is odd or even.\n",
    "# A number is even if division by 2 gives a remainder of 0.\n",
    "# If the remainder is 1, it is an odd number.\n",
    "\n",
    "def OddEven():\n",
    "    num = int(input(\"Enter a number: \"))\n",
    "    if (num % 2) == 0:\n",
    "        print(\"{0} is Even Number\".format(num))\n",
    "    else:\n",
    "        print(\"{0} is Odd Number\".format(num))\n",
    "        \n",
    "        "
   ]
  },
  {
   "cell_type": "code",
   "execution_count": 8,
   "id": "d177277d-efdc-4e07-a335-ca589f55aef0",
   "metadata": {},
   "outputs": [
    {
     "name": "stdin",
     "output_type": "stream",
     "text": [
      "Enter a number:  52452\n"
     ]
    },
    {
     "name": "stdout",
     "output_type": "stream",
     "text": [
      "52452 is Even Number\n"
     ]
    }
   ],
   "source": [
    "OddEven()"
   ]
  },
  {
   "cell_type": "code",
   "execution_count": null,
   "id": "2458d1df-0dbf-488d-8493-0aec79ff32ae",
   "metadata": {},
   "outputs": [],
   "source": [
    "# Create a function that tells elegibility of marriage for male and female according to \n",
    "#their age limit like 21 for male and 18 for female ElegiblityForMarriage.Elegible()"
   ]
  },
  {
   "cell_type": "code",
   "execution_count": 9,
   "id": "1972a37b-a31c-4314-8012-1e2daeb1a618",
   "metadata": {},
   "outputs": [],
   "source": [
    "def Elegible(strGender, strAge):\n",
    "    strMessage=''\n",
    "    if  strGender.upper()=='M' and strAge>=21:\n",
    "        strcriteria=\"Eligible\"\n",
    "        strGender=\"Male\"\n",
    "        strMessage = \"Your Gender is {} \\nYour age is {} \\n{}\".format(strGender, strAge ,strcriteria)\n",
    "    elif strGender.upper()=='F' and strAge>=18:\n",
    "        strcriteria=\"Eligible\"\n",
    "        strGender=\"Female\"\n",
    "        strMessage = \"Your Gender {} \\nYour age is  {} \\n{}\".format(strGender, strAge ,strcriteria)\n",
    "    else:\n",
    "        if strGender.upper()=='M':\n",
    "            strGender='Male' \n",
    "        else: \n",
    "            strGender='Female'\n",
    "            \n",
    "        strcriteria=\"NOT Eligible\"            \n",
    "        strMessage = \"Your Gender is {} \\nYour age is {} \\n{}\".format(strGender, strAge ,strcriteria)\n",
    "\n",
    "    return strMessage"
   ]
  },
  {
   "cell_type": "code",
   "execution_count": 10,
   "id": "99caac68-acf5-4681-8d13-8ddf86c48642",
   "metadata": {},
   "outputs": [
    {
     "name": "stdin",
     "output_type": "stream",
     "text": [
      "Enter the age: 23\n",
      "Enter the Gender M/F: M\n"
     ]
    },
    {
     "name": "stdout",
     "output_type": "stream",
     "text": [
      "\n",
      "\n",
      " Your Gender is Male \n",
      "Your age is 23 \n",
      "Eligible\n"
     ]
    }
   ],
   "source": [
    "\n",
    "\n",
    "age=int(input(\"Enter the age:\"))\n",
    "gender=(input(\"Enter the Gender M/F:\"))\n",
    "\n",
    "\n",
    "str=Elegible(gender,age) \n",
    "print(\"\\n\\n\" ,str)\n"
   ]
  },
  {
   "cell_type": "code",
   "execution_count": 11,
   "id": "faed5790-52ea-4aad-991f-64b60e4cbcae",
   "metadata": {},
   "outputs": [],
   "source": [
    "def FindPercent(intSubject1,intSubject2,intSubject3,intSubject4,intSubject5):\n",
    "    add=intSubject1+intSubject2+intSubject3+intSubject4+intSubject5\n",
    "    percentage= (add * 100 )/500\n",
    "    ###strMessage = \"Subject1 {} \\n Subject2 {} \\n Subject3  {} Subject4 {} \\n Subject5 {} \\n \\n{}\".format(intSubject1,intSubject2,intSubject3,intSubject4,intSubject5)\n",
    "    strMessage =   f\"Subject: {intSubject1}\\nSubject2: {intSubject2}\\nSubject3: {intSubject3}\\nSubject4: {intSubject4}\\nSubject5: {intSubject5} \\nTotal: {add} \\nPercentage: {percentage}\"\n",
    "    return strMessage \n",
    "    "
   ]
  },
  {
   "cell_type": "code",
   "execution_count": 12,
   "id": "3833f5bd-3b75-4759-9315-8095589ede75",
   "metadata": {},
   "outputs": [
    {
     "name": "stdout",
     "output_type": "stream",
     "text": [
      "Subject: 98\n",
      "Subject2: 87\n",
      "Subject3: 95\n",
      "Subject4: 95\n",
      "Subject5: 93 \n",
      "Total: 468 \n",
      "Percentage: 93.6\n"
     ]
    }
   ],
   "source": [
    "a=FindPercent(98,87,95,95,93)\n",
    "print(a)\n"
   ]
  },
  {
   "cell_type": "code",
   "execution_count": 13,
   "id": "cba3587b-6c86-431c-bca4-ac70d26a2fd6",
   "metadata": {},
   "outputs": [],
   "source": [
    "def triangle(intHeight,intBreath):\n",
    "    \n",
    "    area_formula=(intHeight *  intBreath) /2\n",
    "    strMessage= f\"Height:{intHeight}\\nBreadth:{intBreath}\\nArea formula: (Height*Breadth)/2 \\nArea of Triangle: {area_formula}\"\n",
    "    \n",
    "    return strMessage\n",
    "    "
   ]
  },
  {
   "cell_type": "code",
   "execution_count": 14,
   "id": "7c9b9847-01c2-4c27-aaaf-b381cfc1cf86",
   "metadata": {},
   "outputs": [
    {
     "name": "stdout",
     "output_type": "stream",
     "text": [
      "Height:32\n",
      "Breadth:34\n",
      "Area formula: (Height*Breadth)/2 \n",
      "Area of Triangle: 544.0\n"
     ]
    }
   ],
   "source": [
    "b=triangle(32,34)\n",
    "print(b)"
   ]
  }
 ],
 "metadata": {
  "kernelspec": {
   "display_name": "Python [conda env:base] *",
   "language": "python",
   "name": "conda-base-py"
  },
  "language_info": {
   "codemirror_mode": {
    "name": "ipython",
    "version": 3
   },
   "file_extension": ".py",
   "mimetype": "text/x-python",
   "name": "python",
   "nbconvert_exporter": "python",
   "pygments_lexer": "ipython3",
   "version": "3.12.7"
  }
 },
 "nbformat": 4,
 "nbformat_minor": 5
}
