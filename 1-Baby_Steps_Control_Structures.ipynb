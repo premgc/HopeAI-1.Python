{
 "cells": [
  {
   "cell_type": "code",
   "execution_count": 33,
   "id": "b1afb1b6-59ef-476b-8358-e1aed1c9dfb4",
   "metadata": {},
   "outputs": [],
   "source": [
    "#Assignment-1-Control Structures "
   ]
  },
  {
   "cell_type": "code",
   "execution_count": 24,
   "id": "8608cbab-2823-4b52-9c6e-dda31872b688",
   "metadata": {},
   "outputs": [
    {
     "name": "stdout",
     "output_type": "stream",
     "text": [
      "Welcome to Assigment\n"
     ]
    }
   ],
   "source": [
    "\n",
    "\n",
    "print(\"Welcome to Assigment\")"
   ]
  },
  {
   "cell_type": "code",
   "execution_count": 5,
   "id": "8bf093d5-9e0e-46c1-a7f3-9aacfdadade5",
   "metadata": {},
   "outputs": [
    {
     "name": "stdout",
     "output_type": "stream",
     "text": [
      "Add 40\n"
     ]
    }
   ],
   "source": [
    "num1=10\n",
    "num2=30\n",
    "\n",
    "print (\"Add\" , str(int(num1+num2)))\n"
   ]
  },
  {
   "cell_type": "code",
   "execution_count": 23,
   "id": "8ad0500c-6c17-48e4-82ef-44e267dcbb2c",
   "metadata": {},
   "outputs": [
    {
     "name": "stdin",
     "output_type": "stream",
     "text": [
      "Enter BMI index 15\n"
     ]
    },
    {
     "name": "stdout",
     "output_type": "stream",
     "text": [
      "Underweight Less than 18.5. Your enter BMI value is  15\n"
     ]
    }
   ],
   "source": [
    "\n",
    "\n",
    "\"\"\"\n",
    "Comments  BMI values taken from google\n",
    "BMI categories for adults 20 and older:\n",
    "Underweight. Less than 18.5.\n",
    "Healthy Weight. 18.5 to less than 25.\n",
    "Overweight. 25 to less than 30.\n",
    "Obesity. 30 or greater.\"\"\"\n",
    "    \n",
    "bmi=int(input(\"Enter BMI index\"))\n",
    "if (bmi<18.5):\n",
    "    print (\"Underweight Less than 18.5. Your enter BMI value is \", str(bmi))\n",
    "elif (bmi> 18.5  and bmi<25):\n",
    "    print(\"Healthy Weight. 18.5 to less than 25. Your enter BMI value is \", str(bmi))\n",
    "elif (bmi > 25  and bmi < 30 ):\n",
    "    print(\"Very Overweight 25 to less than 30.. Your enter BMI value is \", str(bmi))\n",
    "else:\n",
    "    print(\"Obesity bmi 30 or greater. Your enter BMI value is \", str(bmi))"
   ]
  },
  {
   "cell_type": "code",
   "execution_count": null,
   "id": "df54d958-47ab-49cb-bd8f-1d9a25f8b165",
   "metadata": {},
   "outputs": [],
   "source": []
  }
 ],
 "metadata": {
  "kernelspec": {
   "display_name": "Python [conda env:base] *",
   "language": "python",
   "name": "conda-base-py"
  },
  "language_info": {
   "codemirror_mode": {
    "name": "ipython",
    "version": 3
   },
   "file_extension": ".py",
   "mimetype": "text/x-python",
   "name": "python",
   "nbconvert_exporter": "python",
   "pygments_lexer": "ipython3",
   "version": "3.12.7"
  }
 },
 "nbformat": 4,
 "nbformat_minor": 5
}
